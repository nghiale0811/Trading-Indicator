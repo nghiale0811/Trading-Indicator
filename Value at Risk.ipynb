{
 "cells": [
  {
   "cell_type": "markdown",
   "metadata": {},
   "source": [
    "# Analyzing risk of a stock market portfolio"
   ]
  },
  {
   "cell_type": "markdown",
   "metadata": {},
   "source": [
    "We will implement the Value at Risk (VaR) and Conditional Value at Risk (CVaR) using:<br>\n",
    "- Historical method\n",
    "- Parametric method\n",
    "- Monte Carlo method"
   ]
  },
  {
   "cell_type": "code",
   "execution_count": 53,
   "metadata": {},
   "outputs": [],
   "source": [
    "import pandas as pd\n",
    "import numpy as np\n",
    "import datetime as dt\n",
    "from pandas_datareader import data as pdr"
   ]
  },
  {
   "cell_type": "markdown",
   "metadata": {},
   "source": [
    "Now, we write the function to import the data. Our data includes the name of the stock, start date and end date"
   ]
  },
  {
   "cell_type": "code",
   "execution_count": 54,
   "metadata": {},
   "outputs": [],
   "source": [
    "def get_data(stocks, start, end):\n",
    "    stock_data = pdr.get_data_yahoo(stocks, start=start, end=end)\n",
    "    stock_data = stock_data['Close']\n",
    "    returns = stock_data.pct_change()\n",
    "    mean_return = returns.mean()\n",
    "    cov_matrix = returns.cov()\n",
    "    return returns, mean_return, cov_matrix"
   ]
  },
  {
   "cell_type": "markdown",
   "metadata": {},
   "source": [
    "From the data from the function above, we calculate the performance of the portfolio"
   ]
  },
  {
   "cell_type": "code",
   "execution_count": 55,
   "metadata": {},
   "outputs": [],
   "source": [
    "def portfolio_performance(weights, mean_return, cov_matrix, time):\n",
    "    returns = np.sum(mean_return * weights) * time\n",
    "    sd = np.sqrt(np.dot(weights.T, np.dot(cov_matrix, weights))) * np.sqrt(time)\n",
    "    return returns, sd"
   ]
  },
  {
   "cell_type": "markdown",
   "metadata": {},
   "source": [
    "Now we instantiate our portfolio"
   ]
  },
  {
   "cell_type": "code",
   "execution_count": 56,
   "metadata": {},
   "outputs": [],
   "source": [
    "stocklist = ['CBA', 'BHP', 'TLS', 'NAB', 'WBC', 'STO']\n",
    "stocks = [stock + '.AX' for stock in stocklist]\n",
    "end_date = dt.datetime.now()\n",
    "start_date = end_date - dt.timedelta(days=800)"
   ]
  },
  {
   "cell_type": "code",
   "execution_count": 57,
   "metadata": {},
   "outputs": [
    {
     "name": "stdout",
     "output_type": "stream",
     "text": [
      "Symbols       CBA.AX    BHP.AX    TLS.AX    NAB.AX    WBC.AX    STO.AX\n",
      "Date                                                                  \n",
      "2019-04-04 -0.004773 -0.005073 -0.003049 -0.014303 -0.006862 -0.010386\n",
      "2019-04-08 -0.003103  0.017083  0.000000 -0.004434 -0.006526  0.022489\n",
      "2019-04-09 -0.005943  0.003510  0.009174 -0.004453 -0.001546  0.029325\n",
      "2019-04-10  0.007117 -0.003497 -0.003030  0.001627  0.002322 -0.004274\n",
      "2019-04-11 -0.006926 -0.006267  0.006079 -0.007714 -0.012741  0.004292\n",
      "...              ...       ...       ...       ...       ...       ...\n",
      "2021-06-07 -0.005755  0.002051 -0.002793 -0.031625 -0.008932 -0.002591\n",
      "2021-06-08 -0.004415 -0.009621 -0.002801  0.004880  0.003755  0.005195\n",
      "2021-06-09 -0.003942  0.005994  0.002809 -0.007845 -0.006734 -0.009044\n",
      "2021-06-10  0.007618 -0.007602  0.000000  0.002259  0.001507 -0.009126\n",
      "2021-06-11 -0.004811  0.013458  0.002801 -0.006011 -0.011282  0.009211\n",
      "\n",
      "[554 rows x 6 columns]\n"
     ]
    }
   ],
   "source": [
    "returns, mean_return, cov_matrix = get_data(stocks, start_date, end_date)\n",
    "returns = returns.dropna()\n",
    "print(returns)"
   ]
  },
  {
   "cell_type": "markdown",
   "metadata": {},
   "source": [
    "We randomize the weights of the stocks in our portfolio by using np.random"
   ]
  },
  {
   "cell_type": "code",
   "execution_count": 58,
   "metadata": {},
   "outputs": [],
   "source": [
    "weights = np.random.random(len(returns.columns))\n",
    "weights /= np.sum(weights)"
   ]
  },
  {
   "cell_type": "markdown",
   "metadata": {},
   "source": [
    "Now, we associate the weights for the stocks in our portfolio"
   ]
  },
  {
   "cell_type": "code",
   "execution_count": 59,
   "metadata": {},
   "outputs": [
    {
     "name": "stdout",
     "output_type": "stream",
     "text": [
      "Symbols       CBA.AX    BHP.AX    TLS.AX    NAB.AX    WBC.AX    STO.AX  \\\n",
      "Date                                                                     \n",
      "2019-04-04 -0.004773 -0.005073 -0.003049 -0.014303 -0.006862 -0.010386   \n",
      "2019-04-08 -0.003103  0.017083  0.000000 -0.004434 -0.006526  0.022489   \n",
      "2019-04-09 -0.005943  0.003510  0.009174 -0.004453 -0.001546  0.029325   \n",
      "2019-04-10  0.007117 -0.003497 -0.003030  0.001627  0.002322 -0.004274   \n",
      "2019-04-11 -0.006926 -0.006267  0.006079 -0.007714 -0.012741  0.004292   \n",
      "...              ...       ...       ...       ...       ...       ...   \n",
      "2021-06-07 -0.005755  0.002051 -0.002793 -0.031625 -0.008932 -0.002591   \n",
      "2021-06-08 -0.004415 -0.009621 -0.002801  0.004880  0.003755  0.005195   \n",
      "2021-06-09 -0.003942  0.005994  0.002809 -0.007845 -0.006734 -0.009044   \n",
      "2021-06-10  0.007618 -0.007602  0.000000  0.002259  0.001507 -0.009126   \n",
      "2021-06-11 -0.004811  0.013458  0.002801 -0.006011 -0.011282  0.009211   \n",
      "\n",
      "Symbols     portfolio  \n",
      "Date                   \n",
      "2019-04-04  -0.008237  \n",
      "2019-04-08   0.002186  \n",
      "2019-04-09   0.004593  \n",
      "2019-04-10   0.000500  \n",
      "2019-04-11  -0.006038  \n",
      "...               ...  \n",
      "2021-06-07  -0.010158  \n",
      "2021-06-08   0.001797  \n",
      "2021-06-09  -0.005279  \n",
      "2021-06-10  -0.000671  \n",
      "2021-06-11  -0.002625  \n",
      "\n",
      "[554 rows x 7 columns]\n"
     ]
    }
   ],
   "source": [
    "returns['portfolio'] = returns.dot(weights)\n",
    "print(returns)"
   ]
  },
  {
   "cell_type": "markdown",
   "metadata": {},
   "source": [
    "### Historical VaR"
   ]
  },
  {
   "cell_type": "markdown",
   "metadata": {},
   "source": [
    "The formula for VaR is: <br><br> \n",
    "$$VaR_a(X) = -inf\\{x \\in \\mathbb{R} | F_x (x) > a\\} = F_{Y}^{-1} (1 - a)$$"
   ]
  },
  {
   "cell_type": "markdown",
   "metadata": {},
   "source": [
    "![Image](https://upload.wikimedia.org/wikipedia/commons/6/64/VaR_diagram.JPG)"
   ]
  },
  {
   "cell_type": "markdown",
   "metadata": {},
   "source": [
    "Some theory:<br>\n",
    "- If $X$ is a random variable for the Profit and Loss distribution, $Y = -X(loss\\ distribution)$\n",
    "- $F_{x} (x)$ is the CDF of the Profit and Loss distribution, $F_{Y}^{-1} (y)$ is the inverse CDF of loss distribution"
   ]
  },
  {
   "cell_type": "markdown",
   "metadata": {},
   "source": [
    "Now we write a function to calculate the historical VaR. We want to read the returns dataframe and output the percentile of the distribution at the given alpha confidence interval"
   ]
  },
  {
   "cell_type": "code",
   "execution_count": 60,
   "metadata": {},
   "outputs": [],
   "source": [
    "def historical_var(returns, alpha=5):\n",
    "    if isinstance(returns, pd.Series):\n",
    "        return np.percentile(returns, alpha)\n",
    "    elif isintance(returns, pd.DataFrame):\n",
    "        return returns.aggregate(historical_var, alpha=5)\n",
    "    else:\n",
    "        raise TypeError"
   ]
  },
  {
   "cell_type": "markdown",
   "metadata": {},
   "source": [
    "Function to calculate historical cVaR (aka expected short fall):"
   ]
  },
  {
   "attachments": {},
   "cell_type": "markdown",
   "metadata": {},
   "source": [
    "![Image](https://i.ytimg.com/vi/qML5RpE7mxw/maxresdefault.jpg)"
   ]
  },
  {
   "cell_type": "code",
   "execution_count": 61,
   "metadata": {},
   "outputs": [],
   "source": [
    "def historical_cvar(returns, alpha=5):\n",
    "    if isinstance(returns, pd.Series):\n",
    "        below_var = returns <= historical_var(returns, alpha)\n",
    "        return returns[below_var].mean()\n",
    "    elif isinstance(returns, pd.DataFrame):\n",
    "        return returns.aggregate(historical_cvar, alpha=5)\n",
    "    else:\n",
    "        raise TypeError"
   ]
  },
  {
   "cell_type": "code",
   "execution_count": 62,
   "metadata": {},
   "outputs": [
    {
     "name": "stdout",
     "output_type": "stream",
     "text": [
      "Expected portfolio return:  42.36\n",
      "Value at risk at 95% confidence interval:  2413.26\n",
      "Conditional value at risk at 95% confidence interval:  4665.0\n"
     ]
    }
   ],
   "source": [
    "time = 1\n",
    "\n",
    "var = -historical_var(returns['portfolio'], 5) * np.sqrt(time)\n",
    "cvar = -historical_cvar(returns['portfolio'], 5) * np.sqrt(time)\n",
    "returns, sd = portfolio_performance(weights, mean_return, cov_matrix, time)\n",
    "\n",
    "initial_investment = 100000\n",
    "print('Expected portfolio return: ', round(initial_investment * returns, 2))\n",
    "print('Value at risk at 95% confidence interval: ', round(initial_investment * var, 2))\n",
    "print('Conditional value at risk at 95% confidence interval: ', round(initial_investment * cvar, 2))"
   ]
  },
  {
   "cell_type": "code",
   "execution_count": null,
   "metadata": {},
   "outputs": [],
   "source": []
  }
 ],
 "metadata": {
  "kernelspec": {
   "display_name": "Python 3",
   "language": "python",
   "name": "python3"
  },
  "language_info": {
   "codemirror_mode": {
    "name": "ipython",
    "version": 3
   },
   "file_extension": ".py",
   "mimetype": "text/x-python",
   "name": "python",
   "nbconvert_exporter": "python",
   "pygments_lexer": "ipython3",
   "version": "3.8.3"
  }
 },
 "nbformat": 4,
 "nbformat_minor": 4
}
