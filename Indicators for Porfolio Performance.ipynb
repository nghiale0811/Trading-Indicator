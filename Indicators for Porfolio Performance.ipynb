{
 "cells": [
  {
   "cell_type": "markdown",
   "metadata": {},
   "source": [
    "# Indicators for Portfolio Performance"
   ]
  },
  {
   "cell_type": "code",
   "execution_count": 9,
   "metadata": {},
   "outputs": [],
   "source": [
    "import pandas as pd\n",
    "import numpy as np"
   ]
  },
  {
   "cell_type": "code",
   "execution_count": 10,
   "metadata": {},
   "outputs": [],
   "source": [
    "def annualized_return(x):\n",
    "    '''Compute Annaulzied Return'''\n",
    "    gross_return = x.iloc[-1]/x.iloc[0]\n",
    "    shape = x.shape\n",
    "    days = shape[0]\n",
    "    years = days/252\n",
    "    ann_return = gross_return ** (1/years)\n",
    "    ann_return = ann_return - 1\n",
    "    df = pd.DataFrame({'Portfolio':ann_return.index, \\\n",
    "                       'Annualized Return':ann_return.values})\n",
    "    return df"
   ]
  },
  {
   "cell_type": "code",
   "execution_count": 11,
   "metadata": {},
   "outputs": [],
   "source": [
    "def annualized_standard_deviation(x):\n",
    "    '''Compute Annualized Standard Deviation'''\n",
    "    data2 = x.pct_change()\n",
    "    std = data2.std() * 252 ** 0.5\n",
    "    df = pd.DataFrame({'Portfolio':std.index, 'Standard Deviation':std.values})\n",
    "    return df"
   ]
  },
  {
   "cell_type": "code",
   "execution_count": 12,
   "metadata": {},
   "outputs": [],
   "source": [
    "def max_drawdown(x):\n",
    "    '''Max Peak to Trough Loss'''\n",
    "    roll_max = x.expanding().max()\n",
    "    daily_drawdown = x/roll_max - 1.0\n",
    "    # Next we calculate the minimum (negative) daily drawdown in that window.\n",
    "    # Again, use min_periods=1 if you want to allow the expanding window\n",
    "    max_daily_drawdown = daily_drawdown.expanding().min()\n",
    "    # Plot the results\n",
    "    #Daily_Drawdown.plot()\n",
    "    #Max_Daily_Drawdown.plot()\n",
    "    max_dd = np.min(max_daily_drawdown)\n",
    "    max_dd = pd.DataFrame({'Portfolio':max_dd.index, \\\n",
    "                                 'Max Drawdown':max_dd.values})\n",
    "    return max_dd"
   ]
  },
  {
   "cell_type": "code",
   "execution_count": 13,
   "metadata": {},
   "outputs": [],
   "source": [
    "def gain_to_pain_ratio(x):\n",
    "    '''Calculate Schwager's Gain to Pain Ratio'''\n",
    "    returns = x.pct_change().dropna()\n",
    "    positive_returns = returns[returns >= 0].sum()\n",
    "    negative_returns = abs(returns[returns < 0].sum())\n",
    "    gain_to_pain = positive_returns / negative_returns\n",
    "    gain_to_pain = pd.DataFrame({'Portfolio':gain_to_pain.index, \\\n",
    "                                 'Gain to Pain Ratio':gain_to_pain.values})\n",
    "    return gain_to_pain"
   ]
  },
  {
   "cell_type": "code",
   "execution_count": 14,
   "metadata": {},
   "outputs": [],
   "source": [
    "def calmar_ratio(x):\n",
    "    '''Annualized Return over Max Drawdown'''\n",
    "    calmar = annualized_return(x).iloc[:, 1]/-max_drawdown(x).iloc[:, 1]\n",
    "    calmar = pd.DataFrame({'Portfolio':x.columns, 'Calmar Ratio':calmar.values})\n",
    "    return calmar"
   ]
  },
  {
   "cell_type": "code",
   "execution_count": 15,
   "metadata": {},
   "outputs": [],
   "source": [
    "def sharpe_ratio(x, RF=0):\n",
    "    '''Annualized Return - RF rate / Standand Deviation'''\n",
    "    returns = annualized_return(x)\n",
    "    std = annualized_standard_deviation(x)\n",
    "    data = returns.merge(std)\n",
    "    data['Sharpe Ratio (RF = ' + str(RF) + ')'] = \\\n",
    "        (data['Annualized Return']-float(RF))/data['Standard Deviation']\n",
    "    sharpe = data[['Portfolio', 'Sharpe Ratio (RF = ' + str(RF) + ')']]\n",
    "    return sharpe"
   ]
  },
  {
   "cell_type": "code",
   "execution_count": 16,
   "metadata": {},
   "outputs": [],
   "source": [
    "def sortino_ratio(x, RF=0):\n",
    "    '''Similar to Sharpe Ratio but denominator is Std Dev. of downside vol'''\n",
    "    returns = annualized_return(x)\n",
    "    RF_daily = RF/252\n",
    "    returns_data = x.pct_change().dropna()\n",
    "    downside_excess_returns = returns_data[(returns_data - RF_daily) > 0]\n",
    "    std = downside_excess_returns.std() * 252 ** 0.5\n",
    "    df = pd.DataFrame({'Portfolio':std.index, 'Downside Standard Deviation':std.values})\n",
    "    data = returns.merge(df)\n",
    "    data['Sortino Ratio (RF = ' + str(RF) + ')'] = \\\n",
    "        (data['Annualized Return']-float(RF))/data['Downside Standard Deviation']\n",
    "    sortino = data[['Portfolio', 'Sortino Ratio (RF = ' + str(RF) + ')']]\n",
    "    return sortino"
   ]
  },
  {
   "cell_type": "code",
   "execution_count": null,
   "metadata": {},
   "outputs": [],
   "source": []
  }
 ],
 "metadata": {
  "kernelspec": {
   "display_name": "Python 3",
   "language": "python",
   "name": "python3"
  },
  "language_info": {
   "codemirror_mode": {
    "name": "ipython",
    "version": 3
   },
   "file_extension": ".py",
   "mimetype": "text/x-python",
   "name": "python",
   "nbconvert_exporter": "python",
   "pygments_lexer": "ipython3",
   "version": "3.8.3"
  }
 },
 "nbformat": 4,
 "nbformat_minor": 4
}
